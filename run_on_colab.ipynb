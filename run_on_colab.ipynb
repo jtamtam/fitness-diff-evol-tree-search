{
  "nbformat": 4,
  "nbformat_minor": 0,
  "metadata": {
    "colab": {
      "provenance": [],
      "gpuType": "T4",
      "authorship_tag": "ABX9TyN0MMx2XhmavwOcbth1CrK5",
      "include_colab_link": true
    },
    "kernelspec": {
      "name": "python3",
      "display_name": "Python 3"
    },
    "language_info": {
      "name": "python"
    },
    "accelerator": "GPU"
  },
  "cells": [
    {
      "cell_type": "markdown",
      "metadata": {
        "id": "view-in-github",
        "colab_type": "text"
      },
      "source": [
        "<a href=\"https://colab.research.google.com/github/diff-trees/diff-evol-tree-search/blob/main/run_on_colab.ipynb\" target=\"_parent\"><img src=\"https://colab.research.google.com/assets/colab-badge.svg\" alt=\"Open In Colab\"/></a>"
      ]
    },
    {
      "cell_type": "code",
      "execution_count": 1,
      "metadata": {
        "id": "QGr9GUKIhf7O"
      },
      "outputs": [],
      "source": [
        "%%bash\n",
        "[[ ! -e /content/sample_data ]] && exit  ## run this cell only in colab\n",
        " \n",
        "git clone https://github.com/diff-trees/diff-evol-tree-search.git --quiet"
      ]
    },
    {
      "cell_type": "code",
      "source": [
        "%cd diff-evol-tree-search/"
      ],
      "metadata": {
        "colab": {
          "base_uri": "https://localhost:8080/"
        },
        "id": "UwGeFhtUhoxz",
        "outputId": "61908e8f-4d8e-4f79-f0db-05eafd4e94a7"
      },
      "execution_count": 2,
      "outputs": [
        {
          "output_type": "stream",
          "name": "stdout",
          "text": [
            "/content/diff-evol-tree-search\n"
          ]
        }
      ]
    },
    {
      "cell_type": "markdown",
      "source": [
        "#### **Package installation will take around 3 minutes**"
      ],
      "metadata": {
        "id": "ZorysG9CAkl7"
      }
    },
    {
      "cell_type": "code",
      "source": [
        "pip install -r requirements.txt -qqq"
      ],
      "metadata": {
        "id": "CTpSMa948CIn",
        "outputId": "381c81bd-27a6-4291-9fb3-ab0bb4cb6992",
        "colab": {
          "base_uri": "https://localhost:8080/"
        }
      },
      "execution_count": 3,
      "outputs": [
        {
          "output_type": "stream",
          "name": "stdout",
          "text": [
            "\u001b[2K     \u001b[90m━━━━━━━━━━━━━━━━━━━━━━━━━━━━━━━━━━━━━━━━\u001b[0m \u001b[32m40.3/40.3 MB\u001b[0m \u001b[31m14.6 MB/s\u001b[0m eta \u001b[36m0:00:00\u001b[0m\n",
            "\u001b[?25h  Preparing metadata (setup.py) ... \u001b[?25l\u001b[?25hdone\n",
            "\u001b[2K     \u001b[90m━━━━━━━━━━━━━━━━━━━━━━━━━━━━━━━━━━━━━━━━\u001b[0m \u001b[32m93.7/93.7 kB\u001b[0m \u001b[31m10.5 MB/s\u001b[0m eta \u001b[36m0:00:00\u001b[0m\n",
            "\u001b[2K     \u001b[90m━━━━━━━━━━━━━━━━━━━━━━━━━━━━━━━━━━━━━━━━\u001b[0m \u001b[32m1.6/1.6 MB\u001b[0m \u001b[31m61.9 MB/s\u001b[0m eta \u001b[36m0:00:00\u001b[0m\n",
            "\u001b[2K     \u001b[90m━━━━━━━━━━━━━━━━━━━━━━━━━━━━━━━━━━━━━━━━\u001b[0m \u001b[32m15.2/15.2 MB\u001b[0m \u001b[31m31.8 MB/s\u001b[0m eta \u001b[36m0:00:00\u001b[0m\n",
            "\u001b[2K     \u001b[90m━━━━━━━━━━━━━━━━━━━━━━━━━━━━━━━━━━━━━━━━\u001b[0m \u001b[32m3.4/3.4 MB\u001b[0m \u001b[31m109.7 MB/s\u001b[0m eta \u001b[36m0:00:00\u001b[0m\n",
            "\u001b[2K     \u001b[90m━━━━━━━━━━━━━━━━━━━━━━━━━━━━━━━━━━━━━━━━\u001b[0m \u001b[32m2.0/2.0 MB\u001b[0m \u001b[31m96.1 MB/s\u001b[0m eta \u001b[36m0:00:00\u001b[0m\n",
            "\u001b[2K     \u001b[90m━━━━━━━━━━━━━━━━━━━━━━━━━━━━━━━━━━━━━━\u001b[0m \u001b[32m154.9/154.9 kB\u001b[0m \u001b[31m16.2 MB/s\u001b[0m eta \u001b[36m0:00:00\u001b[0m\n",
            "\u001b[2K     \u001b[90m━━━━━━━━━━━━━━━━━━━━━━━━━━━━━━━━━━━━━━\u001b[0m \u001b[32m142.2/142.2 kB\u001b[0m \u001b[31m16.4 MB/s\u001b[0m eta \u001b[36m0:00:00\u001b[0m\n",
            "\u001b[2K     \u001b[90m━━━━━━━━━━━━━━━━━━━━━━━━━━━━━━━━━━━━━━\u001b[0m \u001b[32m199.2/199.2 kB\u001b[0m \u001b[31m16.7 MB/s\u001b[0m eta \u001b[36m0:00:00\u001b[0m\n",
            "\u001b[2K     \u001b[90m━━━━━━━━━━━━━━━━━━━━━━━━━━━━━━━━━━━━━━\u001b[0m \u001b[32m300.8/300.8 kB\u001b[0m \u001b[31m32.2 MB/s\u001b[0m eta \u001b[36m0:00:00\u001b[0m\n",
            "\u001b[2K     \u001b[90m━━━━━━━━━━━━━━━━━━━━━━━━━━━━━━━━━━━━━━━━\u001b[0m \u001b[32m41.8/41.8 kB\u001b[0m \u001b[31m4.8 MB/s\u001b[0m eta \u001b[36m0:00:00\u001b[0m\n",
            "\u001b[2K     \u001b[90m━━━━━━━━━━━━━━━━━━━━━━━━━━━━━━━━━━━━━━\u001b[0m \u001b[32m184.3/184.3 kB\u001b[0m \u001b[31m21.8 MB/s\u001b[0m eta \u001b[36m0:00:00\u001b[0m\n",
            "\u001b[2K     \u001b[90m━━━━━━━━━━━━━━━━━━━━━━━━━━━━━━━━━━━━━━\u001b[0m \u001b[32m206.5/206.5 kB\u001b[0m \u001b[31m22.3 MB/s\u001b[0m eta \u001b[36m0:00:00\u001b[0m\n",
            "\u001b[?25h  Preparing metadata (setup.py) ... \u001b[?25l\u001b[?25hdone\n",
            "\u001b[2K     \u001b[90m━━━━━━━━━━━━━━━━━━━━━━━━━━━━━━━━━━━━━━━━\u001b[0m \u001b[32m62.7/62.7 kB\u001b[0m \u001b[31m7.4 MB/s\u001b[0m eta \u001b[36m0:00:00\u001b[0m\n",
            "\u001b[?25h  Building wheel for matplotlib (setup.py) ... \u001b[?25l\u001b[?25hdone\n",
            "  Building wheel for pathtools (setup.py) ... \u001b[?25l\u001b[?25hdone\n",
            "\u001b[31mERROR: pip's dependency resolver does not currently take into account all the packages that are installed. This behaviour is the source of the following dependency conflicts.\n",
            "mizani 0.8.1 requires matplotlib>=3.5.0, but you have matplotlib 3.2.2 which is incompatible.\n",
            "plotnine 0.10.1 requires matplotlib>=3.5.0, but you have matplotlib 3.2.2 which is incompatible.\u001b[0m\u001b[31m\n",
            "\u001b[0m"
          ]
        }
      ]
    },
    {
      "cell_type": "markdown",
      "source": [
        "#### **Checklist**\n",
        "\n",
        "\n",
        "1.   Make sure to select GPU\n",
        "2.   You can specify your wandb account if you intend to log statistics/tree illustrations\n",
        "\n"
      ],
      "metadata": {
        "id": "fjsdrijhBgfC"
      }
    },
    {
      "cell_type": "markdown",
      "source": [
        "#### **Example : running for trees with 16 leaves.**\n",
        "\n",
        "To run for different number of leaves change the `-l` to the desired value\n",
        "\n",
        "Other params :\n",
        "*   sequence length : `-sl`\n",
        "*   mutations per bifurcation : `-m`\n",
        "*   alphabet size : `-nl`\n",
        "*   epochs/steps : `-e`\n",
        "*   initialization count to run in parallel : `-ic`\n",
        "\n",
        "During running, every 200 steps it will print the `soft_parsimony_score` and `parsimony_score` (last two values in each line)"
      ],
      "metadata": {
        "id": "J44oimMOALKm"
      }
    },
    {
      "cell_type": "code",
      "source": [
        "!python train_batch_implicit_diff.py -l 16 -nl 20 -m 50 -sl 256 -tLs [0,0.005,10,50] -lr 0.1 -lr_seq 0.01 -t float64-multi-init-run -p Batch-Run-Maximum-Parsimony -alt -n \"Final Run\" -g 0 -e 5000 -ai 1 -ic 50 -s 42"
      ],
      "metadata": {
        "colab": {
          "base_uri": "https://localhost:8080/"
        },
        "id": "2MEg3bVRh0NA",
        "outputId": "adf88933-1fb1-42ef-c87d-666abf3ba049"
      },
      "execution_count": 7,
      "outputs": [
        {
          "output_type": "stream",
          "name": "stdout",
          "text": [
            "\u001b[91m\u001b[1mINFO : Utilizing gpu -> 0 \n",
            " \u001b[0m{'args': {'alternate_interval': 1,\n",
            "          'alternate_optimization': True,\n",
            "          'epochs': 5000,\n",
            "          'fix_seqs': False,\n",
            "          'fix_tree': False,\n",
            "          'gpu': 0,\n",
            "          'groundtruth': True,\n",
            "          'init_count': 50,\n",
            "          'initialize_seq': False,\n",
            "          'initialize_tree': False,\n",
            "          'learning_rate': 0.1,\n",
            "          'learning_rate_seq': 0.01,\n",
            "          'leaves': 16,\n",
            "          'letters': 20,\n",
            "          'log_wandb': False,\n",
            "          'mutations': 50,\n",
            "          'notes': 'Final '\n",
            "                   'Run',\n",
            "          'project': 'Batch-Run-Maximum-Parsimony',\n",
            "          'seed': 42,\n",
            "          'seq_length': 256,\n",
            "          'shuffle_seqs': False,\n",
            "          'tags': 'float64-multi-init-run',\n",
            "          'tree_loss_schedule': [0,\n",
            "                                 0.005,\n",
            "                                 10,\n",
            "                                 50]},\n",
            " 'epochs': 5000,\n",
            " 'exp_name': 'l=16, '\n",
            "             'm=50, '\n",
            "             's=256, '\n",
            "             'fs=False, '\n",
            "             'ft=False',\n",
            " 'init_count': 50,\n",
            " 'lr': 0.1,\n",
            " 'lr_seq': 0.01,\n",
            " 'n_all': 31,\n",
            " 'n_ancestors': 15,\n",
            " 'n_leaves': 16,\n",
            " 'n_letters': 20,\n",
            " 'n_mutations': 50,\n",
            " 'seed': 42,\n",
            " 'seq_length': 256,\n",
            " 'seq_temp': 0.5,\n",
            " 'tLs': [0,\n",
            "         0.005,\n",
            "         10,\n",
            "         50]}\n",
            "\u001b[91m\u001b[1mINFO : running sankoff on groundtruth tree\n",
            " \u001b[0m\u001b[92m\u001b[1mdone running sankoff on groundtruth tree. optimal cost = 1396\n",
            " \u001b[0m\u001b[92m\u001b[1mFound a better tree at epoch 0 with cost 2287.000000 from tree 0. (delta at epoch = 0) \n",
            " \u001b[0m\u001b[1mepoch 0 \u001b[0m0.000 3891.200 2287.000\n",
            "\u001b[1mepoch 200 \u001b[0m0.020 3888.130 2404.000\n",
            "\u001b[92m\u001b[1mFound a better tree at epoch 320 with cost 2285.000000 from tree 16. (delta at epoch = 222) \n",
            " \u001b[0m\u001b[92m\u001b[1mFound a better tree at epoch 400 with cost 2127.000000 from tree 32. (delta at epoch = 361) \n",
            " \u001b[0m\u001b[1mepoch 400 \u001b[0m0.040 3878.103 2127.000\n",
            "\u001b[92m\u001b[1mFound a better tree at epoch 420 with cost 2066.000000 from tree 10. (delta at epoch = 417) \n",
            " \u001b[0m\u001b[92m\u001b[1mFound a better tree at epoch 440 with cost 2041.000000 from tree 32. (delta at epoch = 420) \n",
            " \u001b[0m\u001b[92m\u001b[1mFound a better tree at epoch 520 with cost 1958.000000 from tree 32. (delta at epoch = 377) \n",
            " \u001b[0m\u001b[92m\u001b[1mFound a better tree at epoch 540 with cost 1926.000000 from tree 32. (delta at epoch = 363) \n",
            " \u001b[0m\u001b[92m\u001b[1mFound a better tree at epoch 580 with cost 1871.000000 from tree 32. (delta at epoch = 324) \n",
            " \u001b[0m\u001b[1mepoch 600 \u001b[0m0.060 3854.641 1851.000\n",
            "\u001b[92m\u001b[1mFound a better tree at epoch 660 with cost 1747.000000 from tree 32. (delta at epoch = 360) \n",
            " \u001b[0m\u001b[92m\u001b[1mFound a better tree at epoch 700 with cost 1654.000000 from tree 32. (delta at epoch = 358) \n",
            " \u001b[0m\u001b[92m\u001b[1mFound a better tree at epoch 780 with cost 1546.000000 from tree 32. (delta at epoch = 404) \n",
            " \u001b[0m\u001b[92m\u001b[1mFound a better tree at epoch 800 with cost 1534.000000 from tree 10. (delta at epoch = 398) \n",
            " \u001b[0m\u001b[1mepoch 800 \u001b[0m0.080 3806.719 1534.000\n",
            "\u001b[1mepoch 1000 \u001b[0m0.100 3716.892 1477.000\n",
            "\u001b[92m\u001b[1mFound a better tree at epoch 1040 with cost 1468.000000 from tree 36. (delta at epoch = 248) \n",
            " \u001b[0m\u001b[1mepoch 1200 \u001b[0m0.120 3552.052 1464.000\n",
            "\u001b[1mepoch 1400 \u001b[0m0.140 3276.708 1453.000\n",
            "\u001b[1mepoch 1600 \u001b[0m0.160 2826.885 1453.000\n",
            "\u001b[1mepoch 1800 \u001b[0m0.180 2361.895 1442.000\n",
            "\u001b[1mepoch 2000 \u001b[0m0.200 2013.746 1424.000\n",
            "\u001b[1mepoch 2200 \u001b[0m0.220 1799.804 1419.000\n",
            "\u001b[1mepoch 2400 \u001b[0m0.240 1655.900 1408.000\n",
            "\u001b[1mepoch 2600 \u001b[0m0.260 1575.933 1401.000\n",
            "\u001b[1mepoch 2800 \u001b[0m0.280 1513.856 1401.000\n",
            "\u001b[1mepoch 3000 \u001b[0m0.300 1472.072 1398.000\n",
            "\u001b[1mepoch 3200 \u001b[0m0.320 1444.555 1397.000\n",
            "\u001b[1mepoch 3400 \u001b[0m0.340 1425.619 1396.000\n",
            "\u001b[1mepoch 3600 \u001b[0m0.360 1415.462 1396.000\n",
            "\u001b[1mepoch 3800 \u001b[0m0.380 1409.072 1396.000\n",
            "\u001b[1mepoch 4000 \u001b[0m0.400 1404.993 1396.000\n",
            "\u001b[1mepoch 4200 \u001b[0m0.420 1402.962 1396.000\n",
            "\u001b[1mepoch 4400 \u001b[0m0.440 1400.837 1397.000\n",
            "\u001b[1mepoch 4600 \u001b[0m0.460 1399.416 1396.000\n",
            "\u001b[1mepoch 4800 \u001b[0m0.480 1398.486 1396.000\n",
            "\u001b[92m\u001b[1mOptimization done!\n",
            " \u001b[0m\u001b[92m\u001b[1mFinal cost: 1396.00000\n",
            " \u001b[0m\u001b[92m\u001b[1mBest cost encountered: 1396.00000\n",
            " \u001b[0m\u001b[91m\u001b[1mINFO : No groundtruth to compare to\n",
            " \u001b[0m"
          ]
        }
      ]
    },
    {
      "cell_type": "markdown",
      "source": [
        "#### **To run multiple seeds and increasing level of trees automatically run this code** (batch run for reporting in the paper)\n",
        "\n",
        "\n",
        "\n",
        "*   Specify the GPU number\n",
        "*   How much GPU memory to allocate (default = 0.9)\n",
        "*   Starting leaf count\n",
        "*   End leaf count\n",
        "\n"
      ],
      "metadata": {
        "id": "wVO4lT87CTgO"
      }
    },
    {
      "cell_type": "code",
      "source": [
        "!python seed_runner_maximum_parsimony.py"
      ],
      "metadata": {
        "id": "3oue8XI96CKq"
      },
      "execution_count": 4,
      "outputs": []
    }
  ]
}